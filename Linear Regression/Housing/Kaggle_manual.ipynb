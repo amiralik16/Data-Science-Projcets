{
 "cells": [
  {
   "cell_type": "code",
   "execution_count": 2,
   "metadata": {
    "collapsed": true
   },
   "outputs": [],
   "source": [
    "import numpy as np\n",
    "import pandas as pd\n",
    "import matplotlib.pyplot as plt\n",
    "import seaborn as sns\n",
    "from regressors import stats\n",
    "from sklearn.model_selection import train_test_split\n",
    "from sklearn.linear_model import LinearRegression\n",
    "plt.style.use('seaborn') # pretty matplotlib plots\n",
    "%matplotlib inline"
   ]
  },
  {
   "cell_type": "code",
   "execution_count": 4,
   "metadata": {},
   "outputs": [
    {
     "name": "stdout",
     "output_type": "stream",
     "text": [
      "Residuals:\n",
      "Min           1Q      Median           3Q          Max\n",
      "-76739.2921  128410.9904  173701.089  226334.1752  572794.9174\n",
      "\n",
      "\n",
      "Coefficients:\n",
      "                  Estimate     Std. Error  t value   p value\n",
      "_intercept   -1.335804e+06  148870.305728  -8.9729  0.000000\n",
      "OverallQual   2.793341e+04    1120.627580  24.9266  0.000000\n",
      "OverallCond   4.963979e+03    1336.491618   3.7142  0.000213\n",
      "YearBuilt     4.010057e+02      35.446587  11.3130  0.000000\n",
      "YearRemodAdd  2.011070e+02      34.730784   5.7905  0.000000\n",
      "1stFlrSF      4.164191e+01       3.245758  12.8296  0.000000\n",
      "TotRmsAbvGrd  9.325669e+03     911.404486  10.2322  0.000000\n",
      "FullBath      3.665716e+03    2931.247688   1.2506  0.211337\n",
      "LotFrontage   4.613005e+01      58.997174   0.7819  0.434426\n",
      "LotArea       1.038411e+00       0.113864   9.1198  0.000000\n",
      "---\n",
      "R-squared:  0.74963,    Adjusted R-squared:  0.74774\n",
      "F-statistic: 396.22 on 9 features\n"
     ]
    }
   ],
   "source": [
    "data = pd.read_csv('train.csv')\n",
    "sub_data = data[['OverallQual','OverallCond','YearBuilt','YearRemodAdd','1stFlrSF','TotRmsAbvGrd','FullBath','LotFrontage','LotArea','SalePrice']]\n",
    "sub_data = sub_data.dropna()\n",
    "X = sub_data[['OverallQual','OverallCond','YearBuilt','YearRemodAdd','1stFlrSF','TotRmsAbvGrd','FullBath','LotFrontage','LotArea']]\n",
    "y = sub_data['SalePrice']\n",
    "lm = LinearRegression()\n",
    "lm.fit(X,y)\n",
    "stats.summary(lm,X,y,X.columns)"
   ]
  },
  {
   "cell_type": "code",
   "execution_count": 5,
   "metadata": {},
   "outputs": [
    {
     "name": "stdout",
     "output_type": "stream",
     "text": [
      "Residuals:\n",
      "Min           1Q       Median           3Q          Max\n",
      "-77282.5268  128319.7204  173686.6034  225966.3604  567582.6004\n",
      "\n",
      "\n",
      "Coefficients:\n",
      "                  Estimate     Std. Error  t value   p value\n",
      "_intercept   -1.334632e+06  148899.029354  -8.9633  0.000000\n",
      "OverallQual   2.791051e+04    1120.286938  24.9137  0.000000\n",
      "OverallCond   5.005951e+03    1335.727882   3.7477  0.000187\n",
      "YearBuilt     4.039060e+02      35.443375  11.3958  0.000000\n",
      "YearRemodAdd  1.981270e+02      34.732352   5.7044  0.000000\n",
      "1stFlrSF      4.254065e+01       3.220765  13.2082  0.000000\n",
      "TotRmsAbvGrd  9.467997e+03     895.285841  10.5754  0.000000\n",
      "FullBath      3.534906e+03    2926.947822   1.2077  0.227397\n",
      "LotArea       1.078644e+00       0.113832   9.4758  0.000000\n",
      "---\n",
      "R-squared:  0.74951,    Adjusted R-squared:  0.74783\n",
      "F-statistic: 445.83 on 8 features\n"
     ]
    }
   ],
   "source": [
    "X = sub_data[['OverallQual','OverallCond','YearBuilt','YearRemodAdd','1stFlrSF','TotRmsAbvGrd','FullBath','LotArea']]\n",
    "y = sub_data['SalePrice']\n",
    "lm = LinearRegression()\n",
    "lm.fit(X,y)\n",
    "stats.summary(lm,X,y,X.columns)"
   ]
  },
  {
   "cell_type": "code",
   "execution_count": 6,
   "metadata": {},
   "outputs": [
    {
     "name": "stdout",
     "output_type": "stream",
     "text": [
      "Residuals:\n",
      "Min           1Q       Median           3Q          Max\n",
      "-79074.0308  128115.6777  173936.4439  225506.5632  570541.1741\n",
      "\n",
      "\n",
      "Coefficients:\n",
      "                  Estimate     Std. Error  t value   p value\n",
      "_intercept   -1.389458e+06  140883.790585  -9.8624  0.000000\n",
      "OverallQual   2.810595e+04    1087.223038  25.8511  0.000000\n",
      "OverallCond   4.860513e+03    1331.980804   3.6491  0.000274\n",
      "YearBuilt     4.172716e+02      35.446073  11.7720  0.000000\n",
      "YearRemodAdd  2.134060e+02      34.737888   6.1433  0.000000\n",
      "1stFlrSF      4.259853e+01       3.222381  13.2196  0.000000\n",
      "TotRmsAbvGrd  9.967560e+03     860.674302  11.5811  0.000000\n",
      "LotArea       1.076167e+00       0.113892   9.4490  0.000000\n",
      "---\n",
      "R-squared:  0.74924,    Adjusted R-squared:  0.74777\n",
      "F-statistic: 509.22 on 7 features\n"
     ]
    }
   ],
   "source": [
    "X = sub_data[['OverallQual','OverallCond','YearBuilt','YearRemodAdd','1stFlrSF','TotRmsAbvGrd','LotArea']]\n",
    "y = sub_data['SalePrice']\n",
    "lm = LinearRegression()\n",
    "lm.fit(X,y)\n",
    "stats.summary(lm,X,y,X.columns)"
   ]
  },
  {
   "cell_type": "code",
   "execution_count": 8,
   "metadata": {},
   "outputs": [
    {
     "data": {
      "text/plain": [
       "<matplotlib.axes._subplots.AxesSubplot at 0x2b3e9a131d0>"
      ]
     },
     "execution_count": 8,
     "metadata": {},
     "output_type": "execute_result"
    },
    {
     "data": {
      "image/png": "[encoded data removed]",
      "text/plain": [
       "<Figure size 432x288 with 1 Axes>"
      ]
     },
     "metadata": {},
     "output_type": "display_data"
    }
   ],
   "source": [
    "def residplot(model,X,y,**kwargs):\n",
    "    '''\n",
    "    This function plots a regular residual plot\n",
    "    Inputs:\n",
    "        model = Trained sklearn model\n",
    "        X: Predictors as a pandas dataframe\n",
    "        y: Responses as a pandas dataframe\n",
    "        kwargs: seaborn.residplot arguments\n",
    "    Output:\n",
    "        Matplotlib axes\n",
    "    '''\n",
    "    vals = {'Residuals': y-model.predict(X), 'Predicted Values': model.predict(X)}\n",
    "    resdf = pd.DataFrame(vals)\n",
    "    ax = sns.residplot(y='Residuals',x='Predicted Values', data=resdf, **kwargs)\n",
    "    return ax\n",
    "residplot(lm,X,y, lowess = True)"
   ]
  },
  {
   "cell_type": "code",
   "execution_count": 11,
   "metadata": {
    "collapsed": true
   },
   "outputs": [],
   "source": [
    "from sklearn.feature_selection import SelectKBest\n",
    "from sklearn.feature_selection import f_regression\n",
    "from sklearn.pipeline import make_pipeline\n",
    "from sklearn.preprocessing import PolynomialFeatures"
   ]
  },
  {
   "cell_type": "code",
   "execution_count": 12,
   "metadata": {},
   "outputs": [
    {
     "data": {
      "text/plain": [
       "Pipeline(memory=None,\n",
       "     steps=[('polynomialfeatures', PolynomialFeatures(degree=2, include_bias=False, interaction_only=False)), ('selectkbest', SelectKBest(k=22, score_func=<function f_regression at 0x000002B3E6DEDAE8>)), ('linearregression', LinearRegression(copy_X=True, fit_intercept=True, n_jobs=1, normalize=False))])"
      ]
     },
     "execution_count": 12,
     "metadata": {},
     "output_type": "execute_result"
    }
   ],
   "source": [
    "poly_lm_freg = make_pipeline(PolynomialFeatures(2,include_bias=False), SelectKBest(f_regression,22),\n",
    "                               LinearRegression())\n",
    "poly_lm_freg.fit(X,y)\n"
   ]
  },
  {
   "cell_type": "code",
   "execution_count": 13,
   "metadata": {
    "collapsed": true
   },
   "outputs": [],
   "source": [
    "inpipepf = poly_lm_freg.named_steps['polynomialfeatures']\n",
    "inpipesk = poly_lm_freg.named_steps['selectkbest']\n",
    "inpipelm = poly_lm_freg.named_steps['linearregression']"
   ]
  },
  {
   "cell_type": "code",
   "execution_count": 14,
   "metadata": {
    "collapsed": true
   },
   "outputs": [],
   "source": [
    "from itertools import compress\n",
    "Xlabels = list(compress(inpipepf.get_feature_names(X.columns),inpipesk.get_support()))"
   ]
  },
  {
   "cell_type": "code",
   "execution_count": 16,
   "metadata": {},
   "outputs": [
    {
     "name": "stdout",
     "output_type": "stream",
     "text": [
      "Residuals:\n",
      "Min           1Q       Median           3Q          Max\n",
      "53774.9233  125981.7598  162054.7994  218378.2509  512552.0198\n",
      "\n",
      "\n",
      "Coefficients:\n",
      "                               Estimate    Std. Error  t value   p value\n",
      "_intercept                -2.305381e+06  1.607955e+07  -0.1434  0.886019\n",
      "OverallQual               -1.434558e+05  1.337449e+05  -1.0726  0.283663\n",
      "YearBuilt                 -7.586139e+03  4.904467e+03  -1.5468  0.122180\n",
      "YearRemodAdd               9.549141e+03  4.804869e+03   1.9874  0.047106\n",
      "1stFlrSF                   1.765831e+03  3.800481e+02   4.6463  0.000004\n",
      "TotRmsAbvGrd              -2.549247e+05  9.243461e+04  -2.7579  0.005906\n",
      "OverallQual^2              1.136238e+03  6.362363e+02   1.7859  0.074372\n",
      "OverallQual OverallCond    5.796173e+02  6.943777e+02   0.8347  0.404036\n",
      "OverallQual YearBuilt      5.448633e+01  2.756576e+01   1.9766  0.048316\n",
      "OverallQual YearRemodAdd  -4.714944e+00  2.696879e+01  -0.1748  0.861243\n",
      "OverallQual 1stFlrSF       3.323688e+01  2.109105e+00  15.7588  0.000000\n",
      "OverallQual TotRmsAbvGrd   2.403603e+03  6.171353e+02   3.8948  0.000104\n",
      "OverallCond 1stFlrSF       4.140097e+00  1.024976e+00   4.0392  0.000057\n",
      "YearBuilt^2                9.408800e-02  6.340240e-01   0.1484  0.882053\n",
      "YearBuilt YearRemodAdd     3.650926e+00  2.391748e+00   1.5265  0.127157\n",
      "YearBuilt 1stFlrSF        -4.287160e-01  9.218800e-02  -4.6505  0.000004\n",
      "YearBuilt TotRmsAbvGrd     8.100452e+01  2.000337e+01   4.0495  0.000055\n",
      "YearRemodAdd^2            -4.103222e+00  5.888450e-01  -6.9683  0.000000\n",
      "YearRemodAdd 1stFlrSF     -4.707000e-01  9.054100e-02  -5.1987  0.000000\n",
      "YearRemodAdd TotRmsAbvGrd  4.375212e+01  1.960040e+01   2.2322  0.025785\n",
      "1stFlrSF^2                -6.007900e-02  2.184000e-03 -27.5138  0.000000\n",
      "1stFlrSF TotRmsAbvGrd     -2.385253e+00  1.949445e+00  -1.2236  0.221360\n",
      "TotRmsAbvGrd^2             5.480728e+02  3.385095e+02   1.6191  0.105694\n",
      "---\n",
      "R-squared:  0.82412,    Adjusted R-squared:  0.82083\n",
      "F-statistic: 250.89 on 22 features\n"
     ]
    }
   ],
   "source": [
    "stats.summary(inpipelm,inpipesk.transform((inpipepf.transform(X))),y,Xlabels)"
   ]
  },
  {
   "cell_type": "code",
   "execution_count": 18,
   "metadata": {},
   "outputs": [
    {
     "data": {
      "text/plain": [
       "Pipeline(memory=None,\n",
       "     steps=[('polynomialfeatures', PolynomialFeatures(degree=2, include_bias=False, interaction_only=False)), ('selectkbest', SelectKBest(k=22, score_func=<function f_regression at 0x000002B3E6DEDAE8>)), ('linearregression', LinearRegression(copy_X=True, fit_intercept=True, n_jobs=1, normalize=False))])"
      ]
     },
     "execution_count": 18,
     "metadata": {},
     "output_type": "execute_result"
    }
   ],
   "source": [
    "poly_lm_freg_scaled = make_pipeline(PolynomialFeatures(2,include_bias=False), SelectKBest(f_regression,22),\n",
    "                               LinearRegression())\n",
    "y_scaled = np.log10(y) + 1\n",
    "poly_lm_freg_scaled.fit(X,y_scaled)"
   ]
  },
  {
   "cell_type": "code",
   "execution_count": 19,
   "metadata": {
    "collapsed": true
   },
   "outputs": [],
   "source": [
    "test_data = pd.read_csv('test.csv')\n",
    "X_test_test = test_data[['OverallQual','OverallCond','YearBuilt','YearRemodAdd','1stFlrSF','TotRmsAbvGrd','LotArea']]\n",
    "predictions_test_scaled = poly_lm_freg_scaled.predict(X_test_test)\n",
    "predictions_test = 10**(predictions_test_scaled - 1)\n",
    "output = pd.DataFrame()\n",
    "output['Id'] = test_data.Id\n",
    "output['SalePrice'] = predictions_test\n",
    "output.to_csv('predictions2.csv',index=False)"
   ]
  },
  {
   "cell_type": "code",
   "execution_count": null,
   "metadata": {
    "collapsed": true
   },
   "outputs": [],
   "source": []
  }
 ],
 "metadata": {
  "kernelspec": {
   "display_name": "Python 3",
   "language": "python",
   "name": "python3"
  },
  "language_info": {
   "codemirror_mode": {
    "name": "ipython",
    "version": 3
   },
   "file_extension": ".py",
   "mimetype": "text/x-python",
   "name": "python",
   "nbconvert_exporter": "python",
   "pygments_lexer": "ipython3",
   "version": "3.6.2"
  }
 },
 "nbformat": 4,
 "nbformat_minor": 2
}
